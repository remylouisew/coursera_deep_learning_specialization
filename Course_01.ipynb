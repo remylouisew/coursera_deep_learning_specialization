{
 "cells": [
  {
   "cell_type": "markdown",
   "metadata": {},
   "source": [
    "## Introduction to TensorFlow for Artificial Intelligence, Machine Learning, and Deep Learning"
   ]
  },
  {
   "cell_type": "markdown",
   "metadata": {},
   "source": [
    "### Week 1 (Template for Keras)"
   ]
  },
  {
   "cell_type": "code",
   "execution_count": null,
   "metadata": {},
   "outputs": [],
   "source": [
    "import tensorflow as tf\n",
    "import numpy as np\n",
    "import os"
   ]
  },
  {
   "cell_type": "code",
   "execution_count": null,
   "metadata": {},
   "outputs": [],
   "source": [
    "print(tf.__version__)\n",
    "print(\"Num GPUs Available: \", len(tf.config.experimental.list_physical_devices('GPU')))\n"
   ]
  },
  {
   "cell_type": "code",
   "execution_count": null,
   "metadata": {},
   "outputs": [],
   "source": [
    "model = tf.keras.Sequential([keras.layers.Dense(units=1, input_shape=[1])])"
   ]
  },
  {
   "cell_type": "code",
   "execution_count": null,
   "metadata": {},
   "outputs": [],
   "source": [
    "model.compile(optimizer='sgd', loss='mean_squared_error')"
   ]
  },
  {
   "cell_type": "code",
   "execution_count": null,
   "metadata": {},
   "outputs": [],
   "source": [
    "xs = np.array([-1.0,  0.0, 1.0, 2.0, 3.0, 4.0], dtype=float)\n",
    "ys = np.array([-3.0, -1.0, 1.0, 3.0, 5.0, 7.0], dtype=float)"
   ]
  },
  {
   "cell_type": "code",
   "execution_count": null,
   "metadata": {},
   "outputs": [],
   "source": [
    "model.fit(xs, ys, epochs=500)"
   ]
  },
  {
   "cell_type": "code",
   "execution_count": null,
   "metadata": {},
   "outputs": [],
   "source": [
    "print(model.predict([10.0]))"
   ]
  },
  {
   "cell_type": "markdown",
   "metadata": {},
   "source": [
    "### Week 2 (Simple DNN) & 3 (CNN)"
   ]
  },
  {
   "cell_type": "code",
   "execution_count": 47,
   "metadata": {},
   "outputs": [],
   "source": [
    "import os\n",
    "#print(os.environ)\n",
    "#os.environ[\"CUDA_VISIBLE_DEVICES\"] = \"-1\"\n",
    "#print(os.environ[\"CUDA_VISIBLE_DEVICES\"])\n",
    "import time"
   ]
  },
  {
   "cell_type": "code",
   "execution_count": 48,
   "metadata": {},
   "outputs": [
    {
     "name": "stdout",
     "output_type": "stream",
     "text": [
      "2.1.0\n",
      "Num GPUs Available:  1\n"
     ]
    }
   ],
   "source": [
    "import tensorflow as tf\n",
    "print(tf.__version__)\n",
    "print(\"Num GPUs Available: \", len(tf.config.experimental.list_physical_devices('GPU')))"
   ]
  },
  {
   "cell_type": "code",
   "execution_count": 49,
   "metadata": {},
   "outputs": [],
   "source": [
    "mnist = tf.keras.datasets.fashion_mnist"
   ]
  },
  {
   "cell_type": "code",
   "execution_count": 50,
   "metadata": {},
   "outputs": [],
   "source": [
    "(training_images, training_labels), (test_images, test_labels) = mnist.load_data()"
   ]
  },
  {
   "cell_type": "code",
   "execution_count": 51,
   "metadata": {},
   "outputs": [
    {
     "data": {
      "text/plain": [
       "<matplotlib.image.AxesImage at 0x7f0514787f50>"
      ]
     },
     "execution_count": 51,
     "metadata": {},
     "output_type": "execute_result"
    },
    {
     "data": {
      "image/png": "[encoded data removed]",
      "text/plain": [
       "<Figure size 432x288 with 1 Axes>"
      ]
     },
     "metadata": {
      "needs_background": "light"
     },
     "output_type": "display_data"
    }
   ],
   "source": [
    "import numpy as np\n",
    "np.set_printoptions(linewidth=200)\n",
    "import matplotlib.pyplot as plt\n",
    "plt.imshow(training_images[0])\n",
    "#print(training_labels[0])\n",
    "#print(training_images[0])"
   ]
  },
  {
   "cell_type": "code",
   "execution_count": 66,
   "metadata": {},
   "outputs": [],
   "source": [
    "training_images  = training_images / 255.0\n",
    "test_images = test_images / 255.0\n",
    "training_images_cnn=training_images.reshape(60000, 28, 28, 1)\n",
    "test_images_cnn = test_images.reshape(10000, 28, 28, 1)"
   ]
  },
  {
   "cell_type": "code",
   "execution_count": 67,
   "metadata": {},
   "outputs": [
    {
     "name": "stdout",
     "output_type": "stream",
     "text": [
      "(60000, 28, 28)\n",
      "(10000, 28, 28)\n",
      "(60000, 28, 28, 1)\n",
      "(10000, 28, 28, 1)\n"
     ]
    }
   ],
   "source": [
    "print(training_images.shape)\n",
    "print(test_images.shape)\n",
    "print(training_images_cnn.shape)\n",
    "print(test_images_cnn.shape)"
   ]
  },
  {
   "cell_type": "code",
   "execution_count": 56,
   "metadata": {},
   "outputs": [],
   "source": [
    "modeldnn = tf.keras.models.Sequential([\n",
    "                                    #tf.keras.layers.Flatten(input_shape=(28,28)), \n",
    "                                    tf.keras.layers.Flatten(), \n",
    "                                    tf.keras.layers.Dense(512, activation=tf.nn.relu), \n",
    "                                    tf.keras.layers.Dense(512, activation=tf.nn.relu), \n",
    "                                    tf.keras.layers.Dense(10, activation=tf.nn.softmax)])\n",
    "\n",
    "#Why doesn't it error out when last layer doesn't match number of classes?\n",
    "\n",
    "modelcnn = tf.keras.models.Sequential([\n",
    "                                    tf.keras.layers.Conv2D(64, (3,3), activation='relu', input_shape=(28, 28, 1)),\n",
    "                                    tf.keras.layers.MaxPooling2D(2, 2),\n",
    "                                    tf.keras.layers.Conv2D(64, (3,3), activation='relu'),\n",
    "                                    tf.keras.layers.MaxPooling2D(2,2), \n",
    "                                    tf.keras.layers.Flatten(), \n",
    "                                    tf.keras.layers.Dense(512, activation=tf.nn.relu), \n",
    "                                    tf.keras.layers.Dense(512, activation=tf.nn.relu), \n",
    "                                    tf.keras.layers.Dense(10, activation=tf.nn.softmax)])"
   ]
  },
  {
   "cell_type": "code",
   "execution_count": 63,
   "metadata": {},
   "outputs": [
    {
     "name": "stdout",
     "output_type": "stream",
     "text": [
      "Model: \"sequential_14\"\n",
      "_________________________________________________________________\n",
      "Layer (type)                 Output Shape              Param #   \n",
      "=================================================================\n",
      "flatten_15 (Flatten)         multiple                  0         \n",
      "_________________________________________________________________\n",
      "dense_31 (Dense)             multiple                  401920    \n",
      "_________________________________________________________________\n",
      "dense_32 (Dense)             multiple                  262656    \n",
      "_________________________________________________________________\n",
      "dense_33 (Dense)             multiple                  5130      \n",
      "=================================================================\n",
      "Total params: 669,706\n",
      "Trainable params: 669,706\n",
      "Non-trainable params: 0\n",
      "_________________________________________________________________\n",
      "Model: \"sequential_15\"\n",
      "_________________________________________________________________\n",
      "Layer (type)                 Output Shape              Param #   \n",
      "=================================================================\n",
      "conv2d_2 (Conv2D)            (None, 26, 26, 64)        640       \n",
      "_________________________________________________________________\n",
      "max_pooling2d_2 (MaxPooling2 (None, 13, 13, 64)        0         \n",
      "_________________________________________________________________\n",
      "conv2d_3 (Conv2D)            (None, 11, 11, 64)        36928     \n",
      "_________________________________________________________________\n",
      "max_pooling2d_3 (MaxPooling2 (None, 5, 5, 64)          0         \n",
      "_________________________________________________________________\n",
      "flatten_16 (Flatten)         (None, 1600)              0         \n",
      "_________________________________________________________________\n",
      "dense_34 (Dense)             (None, 512)               819712    \n",
      "_________________________________________________________________\n",
      "dense_35 (Dense)             (None, 512)               262656    \n",
      "_________________________________________________________________\n",
      "dense_36 (Dense)             (None, 10)                5130      \n",
      "=================================================================\n",
      "Total params: 1,125,066\n",
      "Trainable params: 1,125,066\n",
      "Non-trainable params: 0\n",
      "_________________________________________________________________\n"
     ]
    }
   ],
   "source": [
    "class myCallback(tf.keras.callbacks.Callback):\n",
    "  def on_epoch_end(self, epoch, logs={}):\n",
    "    if(logs.get('accuracy')>.99):\n",
    "      print(\"\\nReached 99% accuracy so cancelling training!\")\n",
    "      self.model.stop_training = True\n",
    "callbacks = myCallback()\n",
    "        \n",
    "modeldnn.compile(optimizer = tf.optimizers.Adam(), loss = 'sparse_categorical_crossentropy', metrics=['accuracy'])\n",
    "modelcnn.compile(optimizer = tf.optimizers.Adam(), loss = 'sparse_categorical_crossentropy', metrics=['accuracy'])\n",
    "modeldnn.summary()\n",
    "modelcnn.summary()"
   ]
  },
  {
   "cell_type": "code",
   "execution_count": 70,
   "metadata": {},
   "outputs": [
    {
     "name": "stdout",
     "output_type": "stream",
     "text": [
      "Train on 60000 samples\n",
      "Epoch 1/20\n",
      "60000/60000 [==============================] - 6s 103us/sample - loss: 0.6693 - accuracy: 0.7560\n",
      "Epoch 2/20\n",
      "60000/60000 [==============================] - 6s 100us/sample - loss: 0.4474 - accuracy: 0.8367\n",
      "Epoch 3/20\n",
      "60000/60000 [==============================] - 6s 100us/sample - loss: 0.3953 - accuracy: 0.8562\n",
      "Epoch 4/20\n",
      "60000/60000 [==============================] - 6s 100us/sample - loss: 0.3582 - accuracy: 0.8686\n",
      "Epoch 5/20\n",
      "60000/60000 [==============================] - 6s 100us/sample - loss: 0.3316 - accuracy: 0.8782\n",
      "Epoch 6/20\n",
      "60000/60000 [==============================] - 6s 100us/sample - loss: 0.3133 - accuracy: 0.8843\n",
      "Epoch 7/20\n",
      "60000/60000 [==============================] - 6s 100us/sample - loss: 0.2997 - accuracy: 0.8883\n",
      "Epoch 8/20\n",
      "60000/60000 [==============================] - 6s 99us/sample - loss: 0.2854 - accuracy: 0.8945\n",
      "Epoch 9/20\n",
      "60000/60000 [==============================] - 6s 100us/sample - loss: 0.2758 - accuracy: 0.8966\n",
      "Epoch 10/20\n",
      "60000/60000 [==============================] - 6s 99us/sample - loss: 0.2657 - accuracy: 0.9003\n",
      "Epoch 11/20\n",
      "60000/60000 [==============================] - 6s 99us/sample - loss: 0.2582 - accuracy: 0.9022\n",
      "Epoch 12/20\n",
      "60000/60000 [==============================] - 6s 100us/sample - loss: 0.2498 - accuracy: 0.9059\n",
      "Epoch 13/20\n",
      "60000/60000 [==============================] - 6s 99us/sample - loss: 0.2409 - accuracy: 0.9085\n",
      "Epoch 14/20\n",
      "60000/60000 [==============================] - 6s 100us/sample - loss: 0.2339 - accuracy: 0.9119\n",
      "Epoch 15/20\n",
      "60000/60000 [==============================] - 6s 99us/sample - loss: 0.2276 - accuracy: 0.9141\n",
      "Epoch 16/20\n",
      "60000/60000 [==============================] - 6s 100us/sample - loss: 0.2215 - accuracy: 0.9161\n",
      "Epoch 17/20\n",
      "60000/60000 [==============================] - 6s 100us/sample - loss: 0.2152 - accuracy: 0.9181\n",
      "Epoch 18/20\n",
      "60000/60000 [==============================] - 7s 111us/sample - loss: 0.2103 - accuracy: 0.9200\n",
      "Epoch 19/20\n",
      "60000/60000 [==============================] - 6s 99us/sample - loss: 0.2043 - accuracy: 0.9220\n",
      "Epoch 20/20\n",
      "60000/60000 [==============================] - 6s 100us/sample - loss: 0.1994 - accuracy: 0.9241\n",
      "120.70935893058777\n",
      "10000/10000 [==============================] - 1s 90us/sample - loss: 6.6947 - accuracy: 0.1000\n"
     ]
    }
   ],
   "source": [
    "\n",
    "start = time.time()\n",
    "#model.fit(training_images, training_labels, epochs=5, batch_size=128)\n",
    "modeldnn.fit(training_images, training_labels, epochs=20, callbacks=[callbacks])\n",
    "end = time.time()\n",
    "print(end - start)\n",
    "test_loss = modeldnn.evaluate(test_images, test_labels)"
   ]
  },
  {
   "cell_type": "code",
   "execution_count": 72,
   "metadata": {},
   "outputs": [
    {
     "name": "stdout",
     "output_type": "stream",
     "text": [
      "10000/10000 [==============================] - 1s 88us/sample - loss: 0.3455 - accuracy: 0.8833\n",
      "[0.3454980036616325, 0.8833]\n"
     ]
    }
   ],
   "source": [
    "test_loss = modeldnn.evaluate(test_images, test_labels)\n",
    "print(test_loss)"
   ]
  },
  {
   "cell_type": "code",
   "execution_count": 74,
   "metadata": {},
   "outputs": [
    {
     "name": "stdout",
     "output_type": "stream",
     "text": [
      "Train on 60000 samples\n",
      "Epoch 1/20\n",
      "60000/60000 [==============================] - 13s 211us/sample - loss: 0.2342 - accuracy: 0.9105\n",
      "Epoch 2/20\n",
      "60000/60000 [==============================] - 12s 207us/sample - loss: 0.2239 - accuracy: 0.9150\n",
      "Epoch 3/20\n",
      "60000/60000 [==============================] - 12s 207us/sample - loss: 0.2153 - accuracy: 0.9175\n",
      "Epoch 4/20\n",
      "60000/60000 [==============================] - 12s 207us/sample - loss: 0.2049 - accuracy: 0.9211\n",
      "Epoch 5/20\n",
      "60000/60000 [==============================] - 12s 204us/sample - loss: 0.1968 - accuracy: 0.9244\n",
      "Epoch 6/20\n",
      "60000/60000 [==============================] - 12s 204us/sample - loss: 0.1857 - accuracy: 0.9282\n",
      "Epoch 7/20\n",
      "60000/60000 [==============================] - 12s 204us/sample - loss: 0.1762 - accuracy: 0.9309\n",
      "Epoch 8/20\n",
      "60000/60000 [==============================] - 12s 204us/sample - loss: 0.1690 - accuracy: 0.9347\n",
      "Epoch 9/20\n",
      "60000/60000 [==============================] - 12s 205us/sample - loss: 0.1577 - accuracy: 0.9388\n",
      "Epoch 10/20\n",
      "60000/60000 [==============================] - 12s 204us/sample - loss: 0.1539 - accuracy: 0.9398\n",
      "Epoch 11/20\n",
      "60000/60000 [==============================] - 13s 211us/sample - loss: 0.1435 - accuracy: 0.9447\n",
      "Epoch 12/20\n",
      "60000/60000 [==============================] - 12s 204us/sample - loss: 0.1383 - accuracy: 0.9467\n",
      "Epoch 13/20\n",
      "60000/60000 [==============================] - 12s 205us/sample - loss: 0.1308 - accuracy: 0.9496\n",
      "Epoch 14/20\n",
      "60000/60000 [==============================] - 12s 204us/sample - loss: 0.1254 - accuracy: 0.9514\n",
      "Epoch 15/20\n",
      "60000/60000 [==============================] - 12s 202us/sample - loss: 0.1185 - accuracy: 0.9535\n",
      "Epoch 16/20\n",
      "60000/60000 [==============================] - 12s 202us/sample - loss: 0.1100 - accuracy: 0.9570\n",
      "Epoch 17/20\n",
      "60000/60000 [==============================] - 12s 201us/sample - loss: 0.1059 - accuracy: 0.9593\n",
      "Epoch 18/20\n",
      "60000/60000 [==============================] - 12s 201us/sample - loss: 0.1013 - accuracy: 0.9609\n",
      "Epoch 19/20\n",
      "60000/60000 [==============================] - 12s 201us/sample - loss: 0.0922 - accuracy: 0.9632\n",
      "Epoch 20/20\n",
      "60000/60000 [==============================] - 12s 201us/sample - loss: 0.0922 - accuracy: 0.9643\n",
      "245.68721914291382\n",
      "10000/10000 [==============================] - 1s 105us/sample - loss: 0.4784 - accuracy: 0.8925\n"
     ]
    }
   ],
   "source": [
    "start = time.time()\n",
    "#model.fit(training_images, training_labels, epochs=5, batch_size=128)\n",
    "modelcnn.fit(training_images_cnn, training_labels, epochs=20, callbacks=[callbacks])\n",
    "end = time.time()\n",
    "print(end - start)\n",
    "test_loss = modelcnn.evaluate(test_images_cnn, test_labels)\n"
   ]
  },
  {
   "cell_type": "code",
   "execution_count": null,
   "metadata": {},
   "outputs": [],
   "source": [
    "classifications = model.predict(test_images)\n",
    "\n",
    "print(classifications[1])"
   ]
  },
  {
   "cell_type": "code",
   "execution_count": 79,
   "metadata": {},
   "outputs": [
    {
     "name": "stdout",
     "output_type": "stream",
     "text": [
      "[9 2 1 1 6 1 4 6 5 7 4 5 7 3 4 1 2 4 8 0 2 5 7 9 1 4 6 0 9 3 8 8 3 3 8 0 7 5 7 9 6 1 3 7 6 7 2 1 2 2 4 4 5 8 2 2 8 4 8 0 7 7 8 5 1 1 2 3 9 8 7 0 2 6 2 3 1 2 8 4 1 8 5 9 5 0 3 2 0 6 5 3 6 7 1 8 0 1 4\n",
      " 2]\n"
     ]
    }
   ],
   "source": [
    "print(test_labels[:100])"
   ]
  },
  {
   "cell_type": "code",
   "execution_count": 80,
   "metadata": {},
   "outputs": [
    {
     "data": {
      "image/png": "[encoded data removed]",
      "text/plain": [
       "<Figure size 432x288 with 12 Axes>"
      ]
     },
     "metadata": {
      "needs_background": "light"
     },
     "output_type": "display_data"
    }
   ],
   "source": [
    "#not working\n",
    "\n",
    "import matplotlib.pyplot as plt\n",
    "f, axarr = plt.subplots(3,4)\n",
    "FIRST_IMAGE=0\n",
    "SECOND_IMAGE=7\n",
    "THIRD_IMAGE=26\n",
    "CONVOLUTION_NUMBER = 1\n",
    "from tensorflow.keras import models\n",
    "layer_outputs = [layer.output for layer in modelcnn.layers]\n",
    "activation_model = tf.keras.models.Model(inputs = modelcnn.input, outputs = layer_outputs)\n",
    "for x in range(0,4):\n",
    "  f1 = activation_model.predict(test_images_cnn[FIRST_IMAGE].reshape(1, 28, 28, 1))[x]\n",
    "  axarr[0,x].imshow(f1[0, : , :, CONVOLUTION_NUMBER], cmap='inferno')\n",
    "  axarr[0,x].grid(False)\n",
    "  f2 = activation_model.predict(test_images_cnn[SECOND_IMAGE].reshape(1, 28, 28, 1))[x]\n",
    "  axarr[1,x].imshow(f2[0, : , :, CONVOLUTION_NUMBER], cmap='inferno')\n",
    "  axarr[1,x].grid(False)\n",
    "  f3 = activation_model.predict(test_images_cnn[THIRD_IMAGE].reshape(1, 28, 28, 1))[x]\n",
    "  axarr[2,x].imshow(f3[0, : , :, CONVOLUTION_NUMBER], cmap='inferno')\n",
    "  axarr[2,x].grid(False)"
   ]
  },
  {
   "cell_type": "markdown",
   "metadata": {},
   "source": [
    "### Week 3"
   ]
  },
  {
   "cell_type": "code",
   "execution_count": null,
   "metadata": {},
   "outputs": [],
   "source": []
  }
 ],
 "metadata": {
  "kernelspec": {
   "display_name": "Python 3",
   "language": "python",
   "name": "python3"
  },
  "language_info": {
   "codemirror_mode": {
    "name": "ipython",
    "version": 3
   },
   "file_extension": ".py",
   "mimetype": "text/x-python",
   "name": "python",
   "nbconvert_exporter": "python",
   "pygments_lexer": "ipython3",
   "version": "3.7.6"
  }
 },
 "nbformat": 4,
 "nbformat_minor": 4
}
